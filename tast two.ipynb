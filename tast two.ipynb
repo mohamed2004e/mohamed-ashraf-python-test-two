{
 "cells": [
  {
   "cell_type": "markdown",
   "id": "18a21573",
   "metadata": {},
   "source": [
    "# write a program that can take name in lower case and return it in upper case"
   ]
  },
  {
   "cell_type": "code",
   "execution_count": 1,
   "id": "708d6264",
   "metadata": {},
   "outputs": [
    {
     "data": {
      "text/plain": [
       "['SMITH', 'LUTHER', 'NICHOLSON', 'WILLIAMS', 'MARLON', 'CHRISTOPHER']"
      ]
     },
     "execution_count": 1,
     "metadata": {},
     "output_type": "execute_result"
    }
   ],
   "source": [
    "my_names = ['Smith','luther','Nicholson','Williams','Marlon','Christopher']\n",
    "def my_func(name):\n",
    "    result =name.upper()\n",
    "    return result\n",
    "list(map(my_func,my_names))"
   ]
  },
  {
   "cell_type": "markdown",
   "id": "799b4f64",
   "metadata": {},
   "source": [
    "# write a program that can take a number and check for it (prime or not)"
   ]
  },
  {
   "cell_type": "code",
   "execution_count": 8,
   "id": "e7bff734",
   "metadata": {},
   "outputs": [
    {
     "name": "stdout",
     "output_type": "stream",
     "text": [
      "Enter a number: 5\n",
      "5 is a prime number.\n"
     ]
    }
   ],
   "source": [
    "def is_prime(n):\n",
    "    if n <= 1:\n",
    "        return False\n",
    "    for i in range(2, int(n ** 0.5) + 1):\n",
    "        if n % i == 0:\n",
    "            return False\n",
    "    return True\n",
    "\n",
    "number = int(input(\"Enter a number: \"))\n",
    "\n",
    "if is_prime(number):\n",
    "    print(number, \"is a prime number.\")\n",
    "else:\n",
    "    print(number, \"is not a prime number.\")"
   ]
  }
 ],
 "metadata": {
  "kernelspec": {
   "display_name": "Python 3 (ipykernel)",
   "language": "python",
   "name": "python3"
  },
  "language_info": {
   "codemirror_mode": {
    "name": "ipython",
    "version": 3
   },
   "file_extension": ".py",
   "mimetype": "text/x-python",
   "name": "python",
   "nbconvert_exporter": "python",
   "pygments_lexer": "ipython3",
   "version": "3.11.3"
  }
 },
 "nbformat": 4,
 "nbformat_minor": 5
}
